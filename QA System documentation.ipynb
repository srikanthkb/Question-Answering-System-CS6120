{
 "cells": [
  {
   "cell_type": "markdown",
   "id": "7bf6f24c",
   "metadata": {},
   "source": [
    "### Question-Answering on SQUAD"
   ]
  },
  {
   "cell_type": "code",
   "execution_count": 16,
   "id": "c1a4927d",
   "metadata": {},
   "outputs": [],
   "source": [
    "# Import relevant libraries.\n",
    "import torch\n",
    "from huggingface_hub import notebook_login\n",
    "import transformers\n",
    "from datasets import load_dataset, load_metric"
   ]
  },
  {
   "cell_type": "code",
   "execution_count": 2,
   "id": "7afee96c",
   "metadata": {},
   "outputs": [
    {
     "data": {
      "application/vnd.jupyter.widget-view+json": {
       "model_id": "c71e22cc5ef240d1990887040de59257",
       "version_major": 2,
       "version_minor": 0
      },
      "text/plain": [
       "VBox(children=(HTML(value='<center> <img\\nsrc=https://huggingface.co/front/assets/huggingface_logo-noborder.sv…"
      ]
     },
     "metadata": {},
     "output_type": "display_data"
    }
   ],
   "source": [
    "notebook_login()"
   ]
  },
  {
   "cell_type": "markdown",
   "id": "92bb3176",
   "metadata": {},
   "source": [
    "### Loading the dataset"
   ]
  },
  {
   "cell_type": "code",
   "execution_count": 3,
   "id": "6080959e",
   "metadata": {},
   "outputs": [
    {
     "name": "stderr",
     "output_type": "stream",
     "text": [
      "Reusing dataset squad (C:\\Users\\srikanth\\.cache\\huggingface\\datasets\\squad\\plain_text\\1.0.0\\d6ec3ceb99ca480ce37cdd35555d6cb2511d223b9150cce08a837ef62ffea453)\n"
     ]
    },
    {
     "data": {
      "application/vnd.jupyter.widget-view+json": {
       "model_id": "3f5d1e36658d4032a4bef08b07ba13e3",
       "version_major": 2,
       "version_minor": 0
      },
      "text/plain": [
       "  0%|          | 0/2 [00:00<?, ?it/s]"
      ]
     },
     "metadata": {},
     "output_type": "display_data"
    },
    {
     "data": {
      "text/plain": [
       "{'id': '5733be284776f41900661182',\n",
       " 'title': 'University_of_Notre_Dame',\n",
       " 'context': 'Architecturally, the school has a Catholic character. Atop the Main Building\\'s gold dome is a golden statue of the Virgin Mary. Immediately in front of the Main Building and facing it, is a copper statue of Christ with arms upraised with the legend \"Venite Ad Me Omnes\". Next to the Main Building is the Basilica of the Sacred Heart. Immediately behind the basilica is the Grotto, a Marian place of prayer and reflection. It is a replica of the grotto at Lourdes, France where the Virgin Mary reputedly appeared to Saint Bernadette Soubirous in 1858. At the end of the main drive (and in a direct line that connects through 3 statues and the Gold Dome), is a simple, modern stone statue of Mary.',\n",
       " 'question': 'To whom did the Virgin Mary allegedly appear in 1858 in Lourdes France?',\n",
       " 'answers': {'text': ['Saint Bernadette Soubirous'], 'answer_start': [515]}}"
      ]
     },
     "execution_count": 3,
     "metadata": {},
     "output_type": "execute_result"
    }
   ],
   "source": [
    "datasets = load_dataset(\"squad\")\n",
    "\n",
    "# Investigate a sample of the dataset.\n",
    "datasets['train'][0]"
   ]
  },
  {
   "cell_type": "code",
   "execution_count": 4,
   "id": "f088c852",
   "metadata": {},
   "outputs": [
    {
     "data": {
      "text/html": [
       "<table border=\"1\" class=\"dataframe\">\n",
       "  <thead>\n",
       "    <tr style=\"text-align: right;\">\n",
       "      <th></th>\n",
       "      <th>id</th>\n",
       "      <th>title</th>\n",
       "      <th>context</th>\n",
       "      <th>question</th>\n",
       "      <th>answers</th>\n",
       "    </tr>\n",
       "  </thead>\n",
       "  <tbody>\n",
       "    <tr>\n",
       "      <th>0</th>\n",
       "      <td>572a72f97a1753140016af89</td>\n",
       "      <td>Miami</td>\n",
       "      <td>The surface bedrock under the Miami area is called Miami oolite or Miami limestone. This bedrock is covered by a thin layer of soil, and is no more than 50 feet (15 m) thick. Miami limestone formed as the result of the drastic changes in sea level associated with recent glaciations or ice ages. Beginning some 130,000 years ago the Sangamonian Stage raised sea levels to approximately 25 feet (8 m) above the current level. All of southern Florida was covered by a shallow sea. Several parallel lines of reef formed along the edge of the submerged Florida plateau, stretching from the present Miami area to what is now the Dry Tortugas. The area behind this reef line was in effect a large lagoon, and the Miami limestone formed throughout the area from the deposition of oolites and the shells of bryozoans. Starting about 100,000 years ago the Wisconsin glaciation began lowering sea levels, exposing the floor of the lagoon. By 15,000 years ago, the sea level had dropped to 300 to 350 feet (90 to 110 m) below the contemporary level. The sea level rose quickly after that, stabilizing at the current level about 4000 years ago, leaving the mainland of South Florida just above sea level.</td>\n",
       "      <td>How many meters did the Sangamonian Stage raise sea levels compared to their present level?</td>\n",
       "      <td>{'text': ['8'], 'answer_start': [395]}</td>\n",
       "    </tr>\n",
       "    <tr>\n",
       "      <th>1</th>\n",
       "      <td>56cda75062d2951400fa67c6</td>\n",
       "      <td>The_Legend_of_Zelda:_Twilight_Princess</td>\n",
       "      <td>Twilight Princess was released to universal critical acclaim and commercial success. It received perfect scores from major publications such as 1UP.com, Computer and Video Games, Electronic Gaming Monthly, Game Informer, GamesRadar, and GameSpy. On the review aggregators GameRankings and Metacritic, Twilight Princess has average scores of 95% and 95 for the Wii version and scores of 95% and 96 for the GameCube version. GameTrailers in their review called it one of the greatest games ever created.</td>\n",
       "      <td>Who counted the game among the best ever made?</td>\n",
       "      <td>{'text': ['GameTrailers'], 'answer_start': [423]}</td>\n",
       "    </tr>\n",
       "    <tr>\n",
       "      <th>2</th>\n",
       "      <td>57267657708984140094c6f9</td>\n",
       "      <td>Mexico_City</td>\n",
       "      <td>Originally much of the valley laid beneath the waters of Lake Texcoco, a system of interconnected salt and freshwater lakes. The Aztecs built dikes to separate the fresh water used to raise crops in chinampas and to prevent recurrent floods. These dikes were destroyed during the siege of Tenochtitlan, and during colonial times the Spanish regularly drained the lake to prevent floods. Only a small section of the original lake remains, located outside the Federal District, in the municipality of Atenco, State of Mexico.</td>\n",
       "      <td>Who first built the dikes in Lake Texcoco?</td>\n",
       "      <td>{'text': ['The Aztecs'], 'answer_start': [125]}</td>\n",
       "    </tr>\n",
       "    <tr>\n",
       "      <th>3</th>\n",
       "      <td>56cfe133234ae51400d9bfe3</td>\n",
       "      <td>New_York_City</td>\n",
       "      <td>The city's total area is 468.9 square miles (1,214 km2). 164.1 sq mi (425 km2) of this is water and 304.8 sq mi (789 km2) is land. The highest point in the city is Todt Hill on Staten Island, which, at 409.8 feet (124.9 m) above sea level, is the highest point on the Eastern Seaboard south of Maine. The summit of the ridge is mostly covered in woodlands as part of the Staten Island Greenbelt.</td>\n",
       "      <td>How many feet above sea level is Todt Hil?</td>\n",
       "      <td>{'text': ['409.8'], 'answer_start': [202]}</td>\n",
       "    </tr>\n",
       "  </tbody>\n",
       "</table>"
      ],
      "text/plain": [
       "<IPython.core.display.HTML object>"
      ]
     },
     "metadata": {},
     "output_type": "display_data"
    },
    {
     "data": {
      "text/html": [
       "<table border=\"1\" class=\"dataframe\">\n",
       "  <thead>\n",
       "    <tr style=\"text-align: right;\">\n",
       "      <th></th>\n",
       "      <th>id</th>\n",
       "      <th>title</th>\n",
       "      <th>context</th>\n",
       "      <th>question</th>\n",
       "      <th>answers</th>\n",
       "    </tr>\n",
       "  </thead>\n",
       "  <tbody>\n",
       "    <tr>\n",
       "      <th>0</th>\n",
       "      <td>572a72f97a1753140016af89</td>\n",
       "      <td>Miami</td>\n",
       "      <td>The surface bedrock under the Miami area is called Miami oolite or Miami limestone. This bedrock is covered by a thin layer of soil, and is no more than 50 feet (15 m) thick. Miami limestone formed as the result of the drastic changes in sea level associated with recent glaciations or ice ages. Beginning some 130,000 years ago the Sangamonian Stage raised sea levels to approximately 25 feet (8 m) above the current level. All of southern Florida was covered by a shallow sea. Several parallel lines of reef formed along the edge of the submerged Florida plateau, stretching from the present Miami area to what is now the Dry Tortugas. The area behind this reef line was in effect a large lagoon, and the Miami limestone formed throughout the area from the deposition of oolites and the shells of bryozoans. Starting about 100,000 years ago the Wisconsin glaciation began lowering sea levels, exposing the floor of the lagoon. By 15,000 years ago, the sea level had dropped to 300 to 350 feet (90 to 110 m) below the contemporary level. The sea level rose quickly after that, stabilizing at the current level about 4000 years ago, leaving the mainland of South Florida just above sea level.</td>\n",
       "      <td>How many meters did the Sangamonian Stage raise sea levels compared to their present level?</td>\n",
       "      <td>{'text': ['8'], 'answer_start': [395]}</td>\n",
       "    </tr>\n",
       "    <tr>\n",
       "      <th>1</th>\n",
       "      <td>56cda75062d2951400fa67c6</td>\n",
       "      <td>The_Legend_of_Zelda:_Twilight_Princess</td>\n",
       "      <td>Twilight Princess was released to universal critical acclaim and commercial success. It received perfect scores from major publications such as 1UP.com, Computer and Video Games, Electronic Gaming Monthly, Game Informer, GamesRadar, and GameSpy. On the review aggregators GameRankings and Metacritic, Twilight Princess has average scores of 95% and 95 for the Wii version and scores of 95% and 96 for the GameCube version. GameTrailers in their review called it one of the greatest games ever created.</td>\n",
       "      <td>Who counted the game among the best ever made?</td>\n",
       "      <td>{'text': ['GameTrailers'], 'answer_start': [423]}</td>\n",
       "    </tr>\n",
       "    <tr>\n",
       "      <th>2</th>\n",
       "      <td>57267657708984140094c6f9</td>\n",
       "      <td>Mexico_City</td>\n",
       "      <td>Originally much of the valley laid beneath the waters of Lake Texcoco, a system of interconnected salt and freshwater lakes. The Aztecs built dikes to separate the fresh water used to raise crops in chinampas and to prevent recurrent floods. These dikes were destroyed during the siege of Tenochtitlan, and during colonial times the Spanish regularly drained the lake to prevent floods. Only a small section of the original lake remains, located outside the Federal District, in the municipality of Atenco, State of Mexico.</td>\n",
       "      <td>Who first built the dikes in Lake Texcoco?</td>\n",
       "      <td>{'text': ['The Aztecs'], 'answer_start': [125]}</td>\n",
       "    </tr>\n",
       "    <tr>\n",
       "      <th>3</th>\n",
       "      <td>56cfe133234ae51400d9bfe3</td>\n",
       "      <td>New_York_City</td>\n",
       "      <td>The city's total area is 468.9 square miles (1,214 km2). 164.1 sq mi (425 km2) of this is water and 304.8 sq mi (789 km2) is land. The highest point in the city is Todt Hill on Staten Island, which, at 409.8 feet (124.9 m) above sea level, is the highest point on the Eastern Seaboard south of Maine. The summit of the ridge is mostly covered in woodlands as part of the Staten Island Greenbelt.</td>\n",
       "      <td>How many feet above sea level is Todt Hil?</td>\n",
       "      <td>{'text': ['409.8'], 'answer_start': [202]}</td>\n",
       "    </tr>\n",
       "  </tbody>\n",
       "</table>"
      ],
      "text/plain": [
       "<IPython.core.display.HTML object>"
      ]
     },
     "metadata": {},
     "output_type": "display_data"
    },
    {
     "data": {
      "text/html": [
       "<table border=\"1\" class=\"dataframe\">\n",
       "  <thead>\n",
       "    <tr style=\"text-align: right;\">\n",
       "      <th></th>\n",
       "      <th>id</th>\n",
       "      <th>title</th>\n",
       "      <th>context</th>\n",
       "      <th>question</th>\n",
       "      <th>answers</th>\n",
       "    </tr>\n",
       "  </thead>\n",
       "  <tbody>\n",
       "    <tr>\n",
       "      <th>0</th>\n",
       "      <td>572a72f97a1753140016af89</td>\n",
       "      <td>Miami</td>\n",
       "      <td>The surface bedrock under the Miami area is called Miami oolite or Miami limestone. This bedrock is covered by a thin layer of soil, and is no more than 50 feet (15 m) thick. Miami limestone formed as the result of the drastic changes in sea level associated with recent glaciations or ice ages. Beginning some 130,000 years ago the Sangamonian Stage raised sea levels to approximately 25 feet (8 m) above the current level. All of southern Florida was covered by a shallow sea. Several parallel lines of reef formed along the edge of the submerged Florida plateau, stretching from the present Miami area to what is now the Dry Tortugas. The area behind this reef line was in effect a large lagoon, and the Miami limestone formed throughout the area from the deposition of oolites and the shells of bryozoans. Starting about 100,000 years ago the Wisconsin glaciation began lowering sea levels, exposing the floor of the lagoon. By 15,000 years ago, the sea level had dropped to 300 to 350 feet (90 to 110 m) below the contemporary level. The sea level rose quickly after that, stabilizing at the current level about 4000 years ago, leaving the mainland of South Florida just above sea level.</td>\n",
       "      <td>How many meters did the Sangamonian Stage raise sea levels compared to their present level?</td>\n",
       "      <td>{'text': ['8'], 'answer_start': [395]}</td>\n",
       "    </tr>\n",
       "    <tr>\n",
       "      <th>1</th>\n",
       "      <td>56cda75062d2951400fa67c6</td>\n",
       "      <td>The_Legend_of_Zelda:_Twilight_Princess</td>\n",
       "      <td>Twilight Princess was released to universal critical acclaim and commercial success. It received perfect scores from major publications such as 1UP.com, Computer and Video Games, Electronic Gaming Monthly, Game Informer, GamesRadar, and GameSpy. On the review aggregators GameRankings and Metacritic, Twilight Princess has average scores of 95% and 95 for the Wii version and scores of 95% and 96 for the GameCube version. GameTrailers in their review called it one of the greatest games ever created.</td>\n",
       "      <td>Who counted the game among the best ever made?</td>\n",
       "      <td>{'text': ['GameTrailers'], 'answer_start': [423]}</td>\n",
       "    </tr>\n",
       "    <tr>\n",
       "      <th>2</th>\n",
       "      <td>57267657708984140094c6f9</td>\n",
       "      <td>Mexico_City</td>\n",
       "      <td>Originally much of the valley laid beneath the waters of Lake Texcoco, a system of interconnected salt and freshwater lakes. The Aztecs built dikes to separate the fresh water used to raise crops in chinampas and to prevent recurrent floods. These dikes were destroyed during the siege of Tenochtitlan, and during colonial times the Spanish regularly drained the lake to prevent floods. Only a small section of the original lake remains, located outside the Federal District, in the municipality of Atenco, State of Mexico.</td>\n",
       "      <td>Who first built the dikes in Lake Texcoco?</td>\n",
       "      <td>{'text': ['The Aztecs'], 'answer_start': [125]}</td>\n",
       "    </tr>\n",
       "    <tr>\n",
       "      <th>3</th>\n",
       "      <td>56cfe133234ae51400d9bfe3</td>\n",
       "      <td>New_York_City</td>\n",
       "      <td>The city's total area is 468.9 square miles (1,214 km2). 164.1 sq mi (425 km2) of this is water and 304.8 sq mi (789 km2) is land. The highest point in the city is Todt Hill on Staten Island, which, at 409.8 feet (124.9 m) above sea level, is the highest point on the Eastern Seaboard south of Maine. The summit of the ridge is mostly covered in woodlands as part of the Staten Island Greenbelt.</td>\n",
       "      <td>How many feet above sea level is Todt Hil?</td>\n",
       "      <td>{'text': ['409.8'], 'answer_start': [202]}</td>\n",
       "    </tr>\n",
       "  </tbody>\n",
       "</table>"
      ],
      "text/plain": [
       "<IPython.core.display.HTML object>"
      ]
     },
     "metadata": {},
     "output_type": "display_data"
    },
    {
     "data": {
      "text/html": [
       "<table border=\"1\" class=\"dataframe\">\n",
       "  <thead>\n",
       "    <tr style=\"text-align: right;\">\n",
       "      <th></th>\n",
       "      <th>id</th>\n",
       "      <th>title</th>\n",
       "      <th>context</th>\n",
       "      <th>question</th>\n",
       "      <th>answers</th>\n",
       "    </tr>\n",
       "  </thead>\n",
       "  <tbody>\n",
       "    <tr>\n",
       "      <th>0</th>\n",
       "      <td>572a72f97a1753140016af89</td>\n",
       "      <td>Miami</td>\n",
       "      <td>The surface bedrock under the Miami area is called Miami oolite or Miami limestone. This bedrock is covered by a thin layer of soil, and is no more than 50 feet (15 m) thick. Miami limestone formed as the result of the drastic changes in sea level associated with recent glaciations or ice ages. Beginning some 130,000 years ago the Sangamonian Stage raised sea levels to approximately 25 feet (8 m) above the current level. All of southern Florida was covered by a shallow sea. Several parallel lines of reef formed along the edge of the submerged Florida plateau, stretching from the present Miami area to what is now the Dry Tortugas. The area behind this reef line was in effect a large lagoon, and the Miami limestone formed throughout the area from the deposition of oolites and the shells of bryozoans. Starting about 100,000 years ago the Wisconsin glaciation began lowering sea levels, exposing the floor of the lagoon. By 15,000 years ago, the sea level had dropped to 300 to 350 feet (90 to 110 m) below the contemporary level. The sea level rose quickly after that, stabilizing at the current level about 4000 years ago, leaving the mainland of South Florida just above sea level.</td>\n",
       "      <td>How many meters did the Sangamonian Stage raise sea levels compared to their present level?</td>\n",
       "      <td>{'text': ['8'], 'answer_start': [395]}</td>\n",
       "    </tr>\n",
       "    <tr>\n",
       "      <th>1</th>\n",
       "      <td>56cda75062d2951400fa67c6</td>\n",
       "      <td>The_Legend_of_Zelda:_Twilight_Princess</td>\n",
       "      <td>Twilight Princess was released to universal critical acclaim and commercial success. It received perfect scores from major publications such as 1UP.com, Computer and Video Games, Electronic Gaming Monthly, Game Informer, GamesRadar, and GameSpy. On the review aggregators GameRankings and Metacritic, Twilight Princess has average scores of 95% and 95 for the Wii version and scores of 95% and 96 for the GameCube version. GameTrailers in their review called it one of the greatest games ever created.</td>\n",
       "      <td>Who counted the game among the best ever made?</td>\n",
       "      <td>{'text': ['GameTrailers'], 'answer_start': [423]}</td>\n",
       "    </tr>\n",
       "    <tr>\n",
       "      <th>2</th>\n",
       "      <td>57267657708984140094c6f9</td>\n",
       "      <td>Mexico_City</td>\n",
       "      <td>Originally much of the valley laid beneath the waters of Lake Texcoco, a system of interconnected salt and freshwater lakes. The Aztecs built dikes to separate the fresh water used to raise crops in chinampas and to prevent recurrent floods. These dikes were destroyed during the siege of Tenochtitlan, and during colonial times the Spanish regularly drained the lake to prevent floods. Only a small section of the original lake remains, located outside the Federal District, in the municipality of Atenco, State of Mexico.</td>\n",
       "      <td>Who first built the dikes in Lake Texcoco?</td>\n",
       "      <td>{'text': ['The Aztecs'], 'answer_start': [125]}</td>\n",
       "    </tr>\n",
       "    <tr>\n",
       "      <th>3</th>\n",
       "      <td>56cfe133234ae51400d9bfe3</td>\n",
       "      <td>New_York_City</td>\n",
       "      <td>The city's total area is 468.9 square miles (1,214 km2). 164.1 sq mi (425 km2) of this is water and 304.8 sq mi (789 km2) is land. The highest point in the city is Todt Hill on Staten Island, which, at 409.8 feet (124.9 m) above sea level, is the highest point on the Eastern Seaboard south of Maine. The summit of the ridge is mostly covered in woodlands as part of the Staten Island Greenbelt.</td>\n",
       "      <td>How many feet above sea level is Todt Hil?</td>\n",
       "      <td>{'text': ['409.8'], 'answer_start': [202]}</td>\n",
       "    </tr>\n",
       "  </tbody>\n",
       "</table>"
      ],
      "text/plain": [
       "<IPython.core.display.HTML object>"
      ]
     },
     "metadata": {},
     "output_type": "display_data"
    },
    {
     "data": {
      "text/html": [
       "<table border=\"1\" class=\"dataframe\">\n",
       "  <thead>\n",
       "    <tr style=\"text-align: right;\">\n",
       "      <th></th>\n",
       "      <th>id</th>\n",
       "      <th>title</th>\n",
       "      <th>context</th>\n",
       "      <th>question</th>\n",
       "      <th>answers</th>\n",
       "    </tr>\n",
       "  </thead>\n",
       "  <tbody>\n",
       "    <tr>\n",
       "      <th>0</th>\n",
       "      <td>572a72f97a1753140016af89</td>\n",
       "      <td>Miami</td>\n",
       "      <td>The surface bedrock under the Miami area is called Miami oolite or Miami limestone. This bedrock is covered by a thin layer of soil, and is no more than 50 feet (15 m) thick. Miami limestone formed as the result of the drastic changes in sea level associated with recent glaciations or ice ages. Beginning some 130,000 years ago the Sangamonian Stage raised sea levels to approximately 25 feet (8 m) above the current level. All of southern Florida was covered by a shallow sea. Several parallel lines of reef formed along the edge of the submerged Florida plateau, stretching from the present Miami area to what is now the Dry Tortugas. The area behind this reef line was in effect a large lagoon, and the Miami limestone formed throughout the area from the deposition of oolites and the shells of bryozoans. Starting about 100,000 years ago the Wisconsin glaciation began lowering sea levels, exposing the floor of the lagoon. By 15,000 years ago, the sea level had dropped to 300 to 350 feet (90 to 110 m) below the contemporary level. The sea level rose quickly after that, stabilizing at the current level about 4000 years ago, leaving the mainland of South Florida just above sea level.</td>\n",
       "      <td>How many meters did the Sangamonian Stage raise sea levels compared to their present level?</td>\n",
       "      <td>{'text': ['8'], 'answer_start': [395]}</td>\n",
       "    </tr>\n",
       "    <tr>\n",
       "      <th>1</th>\n",
       "      <td>56cda75062d2951400fa67c6</td>\n",
       "      <td>The_Legend_of_Zelda:_Twilight_Princess</td>\n",
       "      <td>Twilight Princess was released to universal critical acclaim and commercial success. It received perfect scores from major publications such as 1UP.com, Computer and Video Games, Electronic Gaming Monthly, Game Informer, GamesRadar, and GameSpy. On the review aggregators GameRankings and Metacritic, Twilight Princess has average scores of 95% and 95 for the Wii version and scores of 95% and 96 for the GameCube version. GameTrailers in their review called it one of the greatest games ever created.</td>\n",
       "      <td>Who counted the game among the best ever made?</td>\n",
       "      <td>{'text': ['GameTrailers'], 'answer_start': [423]}</td>\n",
       "    </tr>\n",
       "    <tr>\n",
       "      <th>2</th>\n",
       "      <td>57267657708984140094c6f9</td>\n",
       "      <td>Mexico_City</td>\n",
       "      <td>Originally much of the valley laid beneath the waters of Lake Texcoco, a system of interconnected salt and freshwater lakes. The Aztecs built dikes to separate the fresh water used to raise crops in chinampas and to prevent recurrent floods. These dikes were destroyed during the siege of Tenochtitlan, and during colonial times the Spanish regularly drained the lake to prevent floods. Only a small section of the original lake remains, located outside the Federal District, in the municipality of Atenco, State of Mexico.</td>\n",
       "      <td>Who first built the dikes in Lake Texcoco?</td>\n",
       "      <td>{'text': ['The Aztecs'], 'answer_start': [125]}</td>\n",
       "    </tr>\n",
       "    <tr>\n",
       "      <th>3</th>\n",
       "      <td>56cfe133234ae51400d9bfe3</td>\n",
       "      <td>New_York_City</td>\n",
       "      <td>The city's total area is 468.9 square miles (1,214 km2). 164.1 sq mi (425 km2) of this is water and 304.8 sq mi (789 km2) is land. The highest point in the city is Todt Hill on Staten Island, which, at 409.8 feet (124.9 m) above sea level, is the highest point on the Eastern Seaboard south of Maine. The summit of the ridge is mostly covered in woodlands as part of the Staten Island Greenbelt.</td>\n",
       "      <td>How many feet above sea level is Todt Hil?</td>\n",
       "      <td>{'text': ['409.8'], 'answer_start': [202]}</td>\n",
       "    </tr>\n",
       "  </tbody>\n",
       "</table>"
      ],
      "text/plain": [
       "<IPython.core.display.HTML object>"
      ]
     },
     "metadata": {},
     "output_type": "display_data"
    }
   ],
   "source": [
    "from datasets import ClassLabel, Sequence\n",
    "import random\n",
    "import pandas as pd\n",
    "from IPython.display import display, HTML\n",
    "\n",
    "\n",
    "indices = []\n",
    "for _ in range(4):\n",
    "    pick = random.randint(0, len(datasets['train'])-1)\n",
    "    while pick in indices:\n",
    "        pick = random.randint(0, len(datasets['train'])-1)\n",
    "    indices.append(pick)\n",
    "    \n",
    "\n",
    "# Visualize 10 sample data points.\n",
    "df = pd.DataFrame(datasets['train'][indices])\n",
    "for col, typ in datasets['train'].features.items():\n",
    "    if isinstance(typ, ClassLabel):\n",
    "        df[col] = df[col].transform(lambda i: typ.names[i])\n",
    "    elif isinstance(typ, Sequence) and isinstance(typ.feature, ClassLabel):\n",
    "        df[col] = df[col].transform(lambda x: [typ.feature.names[i] for i in x])\n",
    "    display(HTML(df.to_html()))"
   ]
  },
  {
   "cell_type": "markdown",
   "id": "e2337d03",
   "metadata": {},
   "source": [
    "### Preprocessing the data"
   ]
  },
  {
   "cell_type": "markdown",
   "id": "3b31c900",
   "metadata": {},
   "source": [
    "The SQUAD dataset contains inputs in the form of title, context, question and answers. Here's the important inputs to be considered:\n",
    "\n",
    "- Context: Paragraph where the answers to the questions are going to be found (if any)\n",
    "- Question: Question asked, based on the context from the paragraph\n",
    "- Answers: Annotated answers from the paragraph, with answer text, start index of the answer.\n",
    "\n",
    "We need to convert these texts inputs into suitable vectors/tensors, which are fed into the models BERT, DistilBERT and XLNET. This conversion includes tokenization of the questions and answers. \n",
    "\n",
    "However, because we choose to only fine-tune BERT, DistilBERT and XLNET for SQUAD dataset, we have to retrieve the pretrained model checkpoints and the vocabulary used for pretraining these models. This can be retrieved using the HuggingFace transformers module.\n",
    "\n",
    "For each of the model, we need to retrieve an independent tokenizer: BertTokenizer, XLNetTokenizer, DistilBertTokenizer\n",
    "The reason behind different tokenization technique is because each of these models have been pre-trained based on different vocabulary and checkpoints (weights and biases). At the high level, the operations in a tokenizer include:\n",
    "- Stripping whitespace characters\n",
    "- Truncating and padding for identifying questions, answers and context\n",
    "\n",
    "The outputs of tokenizer are used as inputs to the models."
   ]
  },
  {
   "cell_type": "markdown",
   "id": "c61bfb73",
   "metadata": {},
   "source": [
    "### Converting text into Word Embeddings with Tokenizers"
   ]
  },
  {
   "cell_type": "markdown",
   "id": "cd14287d-94ab-4cc1-8aeb-57fb17f850bb",
   "metadata": {},
   "source": [
    "Consider the following example of a context and a question by BertTokenizer. It converts the context into a list of tokens."
   ]
  },
  {
   "cell_type": "code",
   "execution_count": 13,
   "id": "b5b5aedd-9339-48ac-b0d8-59c09c575690",
   "metadata": {},
   "outputs": [
    {
     "name": "stdout",
     "output_type": "stream",
     "text": [
      "['steven', 'paul', 'jobs', '(', 'february', '24', ',', '1955', '–', 'october', '5', ',', '2011', ')', 'was', 'an', 'american', 'entrepreneur', ',', 'industrial', 'designer', ',', 'business', 'magnate', ',', 'media', 'proprietor', ',', 'and', 'investor', '.', 'he', 'was', 'the', 'co', '-', 'founder', ',', 'the', 'chairman', ',', 'and', 'ceo', 'of', 'apple', ';', 'the', 'chairman', 'and', 'majority', 'shareholder', 'of', 'pi', '##xa', '##r', ';', 'a', 'member', 'of', 'the', 'walt', 'disney', 'company', \"'\", 's', 'board', 'of', 'directors', 'following', 'its', 'acquisition', 'of', 'pi', '##xa', '##r', ';', 'and', 'the', 'founder', ',', 'chairman', ',', 'and', 'ceo', 'of', 'next', '.', 'he', 'is', 'widely', 'recognized', 'as', 'a', 'pioneer', 'of', 'the', 'personal', 'computer', 'revolution', 'of', 'the', '1970s', 'and', '1980s', ',', 'along', 'with', 'his', 'early', 'business', 'partner', 'and', 'fellow', 'apple', 'co', '-', 'founder', 'steve', 'wo', '##z', '##nia', '##k', '.']\n"
     ]
    }
   ],
   "source": [
    "from utils_squad import (get_squad_example_object, convert_example_to_model_inputs, write_predictions)\n",
    "from transformers import (BertConfig, BertForQuestionAnswering, BertTokenizer)\n",
    "\n",
    "context = \"Steven Paul Jobs (February 24, 1955 – October 5, 2011) was an American entrepreneur, industrial designer, business magnate, media proprietor, and investor. He was the co-founder, the chairman, and CEO of Apple; the chairman and majority shareholder of Pixar; a member of The Walt Disney Company's board of directors following its acquisition of Pixar; and the founder, chairman, and CEO of NeXT. He is widely recognized as a pioneer of the personal computer revolution of the 1970s and 1980s, along with his early business partner and fellow Apple co-founder Steve Wozniak.\"\n",
    "question = 'Who is the founder of Apple?'\n",
    "tokenizer = BertTokenizer.from_pretrained(pretrained_model_name_or_path='./Final_Checkpoints_Bert/Tokenizer', do_lower_case=True)\n",
    "print(tokenizer.tokenize(context))"
   ]
  },
  {
   "cell_type": "code",
   "execution_count": 14,
   "id": "dac4bdaa-253b-4a38-bb2b-283fbf2464bd",
   "metadata": {},
   "outputs": [
    {
     "data": {
      "text/plain": [
       "qas_id: 0, question_text: Who is the founder of Apple?, doc_tokens: [Steven Paul Jobs (February 24, 1955 – October 5, 2011) was an American entrepreneur, industrial designer, business magnate, media proprietor, and investor. He was the co-founder, the chairman, and CEO of Apple; the chairman and majority shareholder of Pixar; a member of The Walt Disney Company's board of directors following its acquisition of Pixar; and the founder, chairman, and CEO of NeXT. He is widely recognized as a pioneer of the personal computer revolution of the 1970s and 1980s, along with his early business partner and fellow Apple co-founder Steve Wozniak.]"
      ]
     },
     "execution_count": 14,
     "metadata": {},
     "output_type": "execute_result"
    }
   ],
   "source": [
    "# Each question, answer and context pair is converted into a squad example object, with ID, question text.\n",
    "\n",
    "examples = get_squad_example_object(context, question)\n",
    "examples"
   ]
  },
  {
   "cell_type": "code",
   "execution_count": 18,
   "id": "a5cf4082-d820-4abf-bb7f-6d6552f001f1",
   "metadata": {},
   "outputs": [
    {
     "name": "stdout",
     "output_type": "stream",
     "text": [
      "tensor([[  101,  2040,  2003,  1996,  3910,  1997,  6207,  1029,   102,  7112,\n",
      "          2703,  5841,  1006,  2337,  2484,  1010,  3982,  1516,  2255,  1019,\n",
      "          1010,  2249,  1007,  2001,  2019,  2137, 10670,  1010,  3919,  5859,\n",
      "          1010,  2449, 27470,  1010,  2865, 21584,  1010,  1998, 14316,  1012,\n",
      "          2002,  2001,  1996,  2522,  1011,  3910,  1010,  1996,  3472,  1010,\n",
      "          1998,  5766,  1997,  6207,  1025,  1996,  3472,  1998,  3484, 18668,\n",
      "          1997, 14255, 18684,  2099,  1025,  1037,  2266,  1997,  1996, 10598,\n",
      "          6373,  2194,  1005,  1055,  2604,  1997,  5501,  2206,  2049,  7654,\n",
      "          1997, 14255, 18684,  2099,  1025,  1998,  1996,  3910,  1010,  3472,\n",
      "          1010,  1998,  5766,  1997,  2279,  1012,  2002,  2003,  4235,  3858,\n",
      "          2004,  1037,  7156,  1997,  1996,  3167,  3274,  4329,  1997,  1996,\n",
      "          3955,  1998,  3865,  1010,  2247,  2007,  2010,  2220,  2449,  4256,\n",
      "          1998,  3507,  6207,  2522,  1011,  3910,  3889, 24185,  2480,  6200,\n",
      "          2243,  1012,   102,     0,     0,     0,     0,     0,     0,     0,\n",
      "             0,     0,     0,     0,     0,     0,     0,     0,     0,     0,\n",
      "             0,     0,     0,     0,     0,     0,     0,     0,     0,     0,\n",
      "             0,     0,     0,     0,     0,     0,     0,     0,     0,     0,\n",
      "             0,     0,     0,     0,     0,     0,     0,     0,     0,     0,\n",
      "             0,     0,     0,     0,     0,     0,     0,     0,     0,     0,\n",
      "             0,     0,     0,     0,     0,     0,     0,     0,     0,     0,\n",
      "             0,     0,     0,     0,     0,     0,     0,     0,     0,     0,\n",
      "             0,     0,     0,     0,     0,     0,     0,     0,     0,     0,\n",
      "             0,     0,     0,     0,     0,     0,     0,     0,     0,     0,\n",
      "             0,     0,     0,     0,     0,     0,     0,     0,     0,     0,\n",
      "             0,     0,     0,     0,     0,     0,     0,     0,     0,     0,\n",
      "             0,     0,     0,     0,     0,     0,     0,     0,     0,     0,\n",
      "             0,     0,     0,     0,     0,     0,     0,     0,     0,     0,\n",
      "             0,     0,     0,     0,     0,     0,     0,     0,     0,     0,\n",
      "             0,     0,     0,     0,     0,     0,     0,     0,     0,     0,\n",
      "             0,     0,     0,     0,     0,     0,     0,     0,     0,     0,\n",
      "             0,     0,     0,     0,     0,     0,     0,     0,     0,     0,\n",
      "             0,     0,     0,     0,     0,     0,     0,     0,     0,     0,\n",
      "             0,     0,     0,     0,     0,     0,     0,     0,     0,     0,\n",
      "             0,     0,     0,     0,     0,     0,     0,     0,     0,     0,\n",
      "             0,     0,     0,     0,     0,     0,     0,     0,     0,     0,\n",
      "             0,     0,     0,     0,     0,     0,     0,     0,     0,     0,\n",
      "             0,     0,     0,     0,     0,     0,     0,     0,     0,     0,\n",
      "             0,     0,     0,     0,     0,     0,     0,     0,     0,     0,\n",
      "             0,     0,     0,     0]])\n",
      "tensor([[1, 1, 1, 1, 1, 1, 1, 1, 1, 1, 1, 1, 1, 1, 1, 1, 1, 1, 1, 1, 1, 1, 1, 1,\n",
      "         1, 1, 1, 1, 1, 1, 1, 1, 1, 1, 1, 1, 1, 1, 1, 1, 1, 1, 1, 1, 1, 1, 1, 1,\n",
      "         1, 1, 1, 1, 1, 1, 1, 1, 1, 1, 1, 1, 1, 1, 1, 1, 1, 1, 1, 1, 1, 1, 1, 1,\n",
      "         1, 1, 1, 1, 1, 1, 1, 1, 1, 1, 1, 1, 1, 1, 1, 1, 1, 1, 1, 1, 1, 1, 1, 1,\n",
      "         1, 1, 1, 1, 1, 1, 1, 1, 1, 1, 1, 1, 1, 1, 1, 1, 1, 1, 1, 1, 1, 1, 1, 1,\n",
      "         1, 1, 1, 1, 1, 1, 1, 1, 1, 1, 1, 1, 1, 0, 0, 0, 0, 0, 0, 0, 0, 0, 0, 0,\n",
      "         0, 0, 0, 0, 0, 0, 0, 0, 0, 0, 0, 0, 0, 0, 0, 0, 0, 0, 0, 0, 0, 0, 0, 0,\n",
      "         0, 0, 0, 0, 0, 0, 0, 0, 0, 0, 0, 0, 0, 0, 0, 0, 0, 0, 0, 0, 0, 0, 0, 0,\n",
      "         0, 0, 0, 0, 0, 0, 0, 0, 0, 0, 0, 0, 0, 0, 0, 0, 0, 0, 0, 0, 0, 0, 0, 0,\n",
      "         0, 0, 0, 0, 0, 0, 0, 0, 0, 0, 0, 0, 0, 0, 0, 0, 0, 0, 0, 0, 0, 0, 0, 0,\n",
      "         0, 0, 0, 0, 0, 0, 0, 0, 0, 0, 0, 0, 0, 0, 0, 0, 0, 0, 0, 0, 0, 0, 0, 0,\n",
      "         0, 0, 0, 0, 0, 0, 0, 0, 0, 0, 0, 0, 0, 0, 0, 0, 0, 0, 0, 0, 0, 0, 0, 0,\n",
      "         0, 0, 0, 0, 0, 0, 0, 0, 0, 0, 0, 0, 0, 0, 0, 0, 0, 0, 0, 0, 0, 0, 0, 0,\n",
      "         0, 0, 0, 0, 0, 0, 0, 0, 0, 0, 0, 0, 0, 0, 0, 0, 0, 0, 0, 0, 0, 0, 0, 0,\n",
      "         0, 0, 0, 0, 0, 0, 0, 0, 0, 0, 0, 0, 0, 0, 0, 0, 0, 0, 0, 0, 0, 0, 0, 0,\n",
      "         0, 0, 0, 0, 0, 0, 0, 0, 0, 0, 0, 0, 0, 0, 0, 0, 0, 0, 0, 0, 0, 0, 0, 0]])\n",
      "tensor([[0, 0, 0, 0, 0, 0, 0, 0, 0, 1, 1, 1, 1, 1, 1, 1, 1, 1, 1, 1, 1, 1, 1, 1,\n",
      "         1, 1, 1, 1, 1, 1, 1, 1, 1, 1, 1, 1, 1, 1, 1, 1, 1, 1, 1, 1, 1, 1, 1, 1,\n",
      "         1, 1, 1, 1, 1, 1, 1, 1, 1, 1, 1, 1, 1, 1, 1, 1, 1, 1, 1, 1, 1, 1, 1, 1,\n",
      "         1, 1, 1, 1, 1, 1, 1, 1, 1, 1, 1, 1, 1, 1, 1, 1, 1, 1, 1, 1, 1, 1, 1, 1,\n",
      "         1, 1, 1, 1, 1, 1, 1, 1, 1, 1, 1, 1, 1, 1, 1, 1, 1, 1, 1, 1, 1, 1, 1, 1,\n",
      "         1, 1, 1, 1, 1, 1, 1, 1, 1, 1, 1, 1, 1, 0, 0, 0, 0, 0, 0, 0, 0, 0, 0, 0,\n",
      "         0, 0, 0, 0, 0, 0, 0, 0, 0, 0, 0, 0, 0, 0, 0, 0, 0, 0, 0, 0, 0, 0, 0, 0,\n",
      "         0, 0, 0, 0, 0, 0, 0, 0, 0, 0, 0, 0, 0, 0, 0, 0, 0, 0, 0, 0, 0, 0, 0, 0,\n",
      "         0, 0, 0, 0, 0, 0, 0, 0, 0, 0, 0, 0, 0, 0, 0, 0, 0, 0, 0, 0, 0, 0, 0, 0,\n",
      "         0, 0, 0, 0, 0, 0, 0, 0, 0, 0, 0, 0, 0, 0, 0, 0, 0, 0, 0, 0, 0, 0, 0, 0,\n",
      "         0, 0, 0, 0, 0, 0, 0, 0, 0, 0, 0, 0, 0, 0, 0, 0, 0, 0, 0, 0, 0, 0, 0, 0,\n",
      "         0, 0, 0, 0, 0, 0, 0, 0, 0, 0, 0, 0, 0, 0, 0, 0, 0, 0, 0, 0, 0, 0, 0, 0,\n",
      "         0, 0, 0, 0, 0, 0, 0, 0, 0, 0, 0, 0, 0, 0, 0, 0, 0, 0, 0, 0, 0, 0, 0, 0,\n",
      "         0, 0, 0, 0, 0, 0, 0, 0, 0, 0, 0, 0, 0, 0, 0, 0, 0, 0, 0, 0, 0, 0, 0, 0,\n",
      "         0, 0, 0, 0, 0, 0, 0, 0, 0, 0, 0, 0, 0, 0, 0, 0, 0, 0, 0, 0, 0, 0, 0, 0,\n",
      "         0, 0, 0, 0, 0, 0, 0, 0, 0, 0, 0, 0, 0, 0, 0, 0, 0, 0, 0, 0, 0, 0, 0, 0]])\n",
      "tensor([0])\n"
     ]
    }
   ],
   "source": [
    "features = convert_example_to_model_inputs(examples, tokenizer, 384, 128, 64)\n",
    "all_input_ids = torch.tensor([f.input_ids for f in features], dtype=torch.long)\n",
    "all_input_mask = torch.tensor([f.input_mask for f in features], dtype=torch.long)\n",
    "all_segment_ids = torch.tensor([f.segment_ids for f in features], dtype=torch.long)\n",
    "all_example_index = torch.arange(all_input_ids.size(0), dtype=torch.long)\n",
    "\n",
    "# Final vector embedding for the Squad example object.\n",
    "print(all_input_ids)\n",
    "print(all_input_mask)\n",
    "print(all_segment_ids)\n",
    "print(all_example_index)"
   ]
  },
  {
   "cell_type": "markdown",
   "id": "1104ab07-aa86-4f00-ac1a-ca20392cd53e",
   "metadata": {},
   "source": [
    "### Training & Evaluating the models [BERT, DistilBERT, XLNET]"
   ]
  },
  {
   "cell_type": "markdown",
   "id": "d0ac472f-9480-476f-ae3a-1c5371641202",
   "metadata": {},
   "source": [
    "Given computational time and memory constraints, we trained these models on GPUs in the Northeastern HPC server. The following are the command are used to train the models:\n",
    "\n",
    "```python\n",
    "python train.py --model 'bert'\n",
    "\n",
    "python train.py --model 'distilbert'\n",
    "\n",
    "python train.py --model 'xlnet'\n",
    "```"
   ]
  },
  {
   "cell_type": "markdown",
   "id": "c6672432-6502-4ef6-a24b-13e0808e2a2a",
   "metadata": {},
   "source": [
    "For evaluation, the following commands are used (in which the checkpoints, pytorch trained models and tokenizers are required to be placed in the same directory):\n",
    "\n",
    "```python\n",
    "\n",
    "python evaluate.py --model 'bert'\n",
    "\n",
    "python evaluate.py --model 'distilbert'\n",
    "\n",
    "python evaluate.py --model 'xlnet'\n",
    "```"
   ]
  },
  {
   "cell_type": "markdown",
   "id": "fe93bb83",
   "metadata": {},
   "source": [
    "### Compare the F1-scores and Exact Matches"
   ]
  },
  {
   "cell_type": "code",
   "execution_count": 20,
   "id": "c0680fa9",
   "metadata": {},
   "outputs": [
    {
     "name": "stdout",
     "output_type": "stream",
     "text": [
      "{'exact': 78.83632923368023, 'f1': 87.14188452907673, 'total': 10570, 'HasAns_exact': 78.83632923368023, 'HasAns_f1': 87.14188452907673, 'HasAns_total': 10570}\n",
      "{'exact': 76.9441816461684, 'f1': 84.7536956876441, 'total': 10570, 'HasAns_exact': 76.9441816461684, 'HasAns_f1': 84.7536956876441, 'HasAns_total': 10570}\n",
      "{'exact': 66.3197729422895, 'f1': 75.61597400828245, 'total': 10570, 'HasAns_exact': 66.3197729422895, 'HasAns_f1': 75.61597400828245, 'HasAns_total': 10570}\n"
     ]
    }
   ],
   "source": [
    "# Paths for evaluated F1 scores and Exact Matches.\n",
    "import os\n",
    "import json\n",
    "\n",
    "results_dir = os.path.join('./results')\n",
    "bert_results = json.load(open(os.path.join(results_dir, 'Bert', 'result.json')))\n",
    "distil_bert_results = json.load(open(os.path.join(results_dir, 'DistilBert', 'result.json')))\n",
    "xlnet_bert_results = json.load(open(os.path.join(results_dir, 'Xlnet', 'result.json')))\n",
    "results = [bert_results, distil_bert_results, xlnet_bert_results]\n",
    "\n",
    "print(bert_results)\n",
    "print(distil_bert_results)\n",
    "print(xlnet_bert_results)"
   ]
  },
  {
   "cell_type": "code",
   "execution_count": 21,
   "id": "7b689b88",
   "metadata": {},
   "outputs": [
    {
     "data": {
      "text/html": [
       "<div>\n",
       "<style scoped>\n",
       "    .dataframe tbody tr th:only-of-type {\n",
       "        vertical-align: middle;\n",
       "    }\n",
       "\n",
       "    .dataframe tbody tr th {\n",
       "        vertical-align: top;\n",
       "    }\n",
       "\n",
       "    .dataframe thead th {\n",
       "        text-align: right;\n",
       "    }\n",
       "</style>\n",
       "<table border=\"1\" class=\"dataframe\">\n",
       "  <thead>\n",
       "    <tr style=\"text-align: right;\">\n",
       "      <th></th>\n",
       "      <th>model</th>\n",
       "      <th>score</th>\n",
       "      <th>Metric</th>\n",
       "    </tr>\n",
       "  </thead>\n",
       "  <tbody>\n",
       "    <tr>\n",
       "      <th>0</th>\n",
       "      <td>BERT</td>\n",
       "      <td>87.141885</td>\n",
       "      <td>F1 Score</td>\n",
       "    </tr>\n",
       "    <tr>\n",
       "      <th>1</th>\n",
       "      <td>DistilBERT</td>\n",
       "      <td>84.753696</td>\n",
       "      <td>F1 Score</td>\n",
       "    </tr>\n",
       "    <tr>\n",
       "      <th>2</th>\n",
       "      <td>XLNET</td>\n",
       "      <td>75.615974</td>\n",
       "      <td>F1 Score</td>\n",
       "    </tr>\n",
       "    <tr>\n",
       "      <th>0</th>\n",
       "      <td>BERT</td>\n",
       "      <td>78.836329</td>\n",
       "      <td>Exact Match</td>\n",
       "    </tr>\n",
       "    <tr>\n",
       "      <th>1</th>\n",
       "      <td>DistilBERT</td>\n",
       "      <td>76.944182</td>\n",
       "      <td>Exact Match</td>\n",
       "    </tr>\n",
       "    <tr>\n",
       "      <th>2</th>\n",
       "      <td>XLNET</td>\n",
       "      <td>66.319773</td>\n",
       "      <td>Exact Match</td>\n",
       "    </tr>\n",
       "  </tbody>\n",
       "</table>\n",
       "</div>"
      ],
      "text/plain": [
       "        model      score       Metric\n",
       "0        BERT  87.141885     F1 Score\n",
       "1  DistilBERT  84.753696     F1 Score\n",
       "2       XLNET  75.615974     F1 Score\n",
       "0        BERT  78.836329  Exact Match\n",
       "1  DistilBERT  76.944182  Exact Match\n",
       "2       XLNET  66.319773  Exact Match"
      ]
     },
     "execution_count": 21,
     "metadata": {},
     "output_type": "execute_result"
    }
   ],
   "source": [
    "# Create a dataframe with the results.\n",
    "f1_df = pd.DataFrame(columns=['model', 'score'])\n",
    "f1_df['model'] = ['BERT', 'DistilBERT', 'XLNET']\n",
    "f1_df['score'] = [result['f1'] for result in results]\n",
    "f1_df['Metric'] = 'F1 Score'\n",
    "\n",
    "em_df = pd.DataFrame(columns=['model', 'score'])\n",
    "em_df['model'] = ['BERT', 'DistilBERT', 'XLNET']\n",
    "em_df['score'] = [result['exact'] for result in results]\n",
    "em_df['Metric'] = 'Exact Match'\n",
    "\n",
    "final_df = pd.concat([f1_df, em_df])\n",
    "final_df"
   ]
  },
  {
   "cell_type": "code",
   "execution_count": 22,
   "id": "5e858bcd",
   "metadata": {},
   "outputs": [
    {
     "data": {
      "image/png": "[encoded data removed]",
      "text/plain": [
       "<Figure size 432x288 with 1 Axes>"
      ]
     },
     "metadata": {
      "needs_background": "light"
     },
     "output_type": "display_data"
    }
   ],
   "source": [
    "# Plot a bar graph.\n",
    "import seaborn as sns\n",
    "import matplotlib.pyplot as plt\n",
    "ax = sns.barplot(x = 'model', y = 'score', hue = 'Metric', data = final_df)\n",
    "ax.bar_label(ax.containers[0])\n",
    "ax.bar_label(ax.containers[1])\n",
    "lgd = plt.legend(bbox_to_anchor=(1.05, 1))\n",
    "plt.title('Comparison of performance metrics')\n",
    "plt.savefig('metrics-comparison.png', bbox_extra_artists=(lgd,), bbox_inches='tight')\n",
    "plt.show()"
   ]
  },
  {
   "cell_type": "markdown",
   "id": "71354c36",
   "metadata": {},
   "source": [
    "Here's a few inferences from the result above:\n",
    "\n",
    "1. We can clearly see that the performance of BERT is the best among the three models, with DistilBERT almost behind BERT.\n",
    "2. As the number of epochs increase, we suppose that XLNET performs better to achieve higher scores."
   ]
  },
  {
   "cell_type": "markdown",
   "id": "ee0d910d",
   "metadata": {},
   "source": [
    "### Compare the latency of each model"
   ]
  },
  {
   "cell_type": "code",
   "execution_count": 4,
   "id": "cb0e89a2",
   "metadata": {},
   "outputs": [
    {
     "name": "stdout",
     "output_type": "stream",
     "text": [
      "Time taken for answering by BERT:  2.560497283935547\n",
      "Time taken for answering by DistilBert BERT:  0.9830152988433838\n",
      "Time taken for answering by XLNET:  2.484772205352783\n"
     ]
    },
    {
     "data": {
      "text/html": [
       "<div>\n",
       "<style scoped>\n",
       "    .dataframe tbody tr th:only-of-type {\n",
       "        vertical-align: middle;\n",
       "    }\n",
       "\n",
       "    .dataframe tbody tr th {\n",
       "        vertical-align: top;\n",
       "    }\n",
       "\n",
       "    .dataframe thead th {\n",
       "        text-align: right;\n",
       "    }\n",
       "</style>\n",
       "<table border=\"1\" class=\"dataframe\">\n",
       "  <thead>\n",
       "    <tr style=\"text-align: right;\">\n",
       "      <th></th>\n",
       "      <th>Model</th>\n",
       "      <th>Time per question (ms)</th>\n",
       "    </tr>\n",
       "  </thead>\n",
       "  <tbody>\n",
       "    <tr>\n",
       "      <th>0</th>\n",
       "      <td>Bert</td>\n",
       "      <td>256</td>\n",
       "    </tr>\n",
       "    <tr>\n",
       "      <th>1</th>\n",
       "      <td>DistilBert</td>\n",
       "      <td>98</td>\n",
       "    </tr>\n",
       "    <tr>\n",
       "      <th>2</th>\n",
       "      <td>XLNET</td>\n",
       "      <td>248</td>\n",
       "    </tr>\n",
       "  </tbody>\n",
       "</table>\n",
       "</div>"
      ],
      "text/plain": [
       "        Model  Time per question (ms)\n",
       "0        Bert                     256\n",
       "1  DistilBert                      98\n",
       "2       XLNET                     248"
      ]
     },
     "execution_count": 4,
     "metadata": {},
     "output_type": "execute_result"
    }
   ],
   "source": [
    "from qa_system import *\n",
    "import time\n",
    "\n",
    "# Test question:\n",
    "context = \"Steve Jobs was an American entrepreneur, industrial designer, business magnate and investor. \\\n",
    "           He was widely recognized as a pioneer of the personal computer revolution of the 1970s and 1980s,\\\n",
    "           along with his early business partner and fellow Apple co-founder Steve Wozniak.\\\n",
    "           He was born on 24th February 1955 in San Francisco. He and Wozniak co-founded Apple \\\n",
    "           in 1976 to sell Wozniak's Apple I personal computer. The Macintosh introduced the desktop \\\n",
    "           publishing industry in 1985 with the addition of the Apple LaserWriter, the first laser printer\\\n",
    "           to feature vector graphics.\"\n",
    "question = \"who co-founded Apple?\"\n",
    "\n",
    "# Test BERT model speed.\n",
    "bert_start = time.time()\n",
    "model = Model(\n",
    "    model_type = 'bert',\n",
    "    model_path = './Final_Checkpoints_Bert',\n",
    "    tokenizer_path = './Final_Checkpoints_Bert/tokenizer')\n",
    "bert_answer = model.predict(context, question)\n",
    "bert_end = time.time()\n",
    "print('Time taken for answering by BERT: ', bert_end - bert_start)\n",
    "\n",
    "# Test DistilBERT model speed.\n",
    "dbert_start = time.time()\n",
    "model = Model(\n",
    "    model_type = 'bert',\n",
    "    model_path = './Final_Checkpoints_DistilBert',\n",
    "    tokenizer_path = './Final_Checkpoints_DistilBert/tokenizer')\n",
    "dbert_answer = model.predict(context, question)\n",
    "dbert_end = time.time()\n",
    "print('Time taken for answering by DistilBert BERT: ', dbert_end - dbert_start)\n",
    "\n",
    "# Test XLNET model speed.\n",
    "xlnet_start = time.time()\n",
    "model = Model(\n",
    "    model_type = 'bert',\n",
    "    model_path = './Final_Checkpoints_Bert',\n",
    "    tokenizer_path = './Final_Checkpoints_Bert/tokenizer')\n",
    "xlnet_answer = model.predict(context, question)\n",
    "xlnet_end = time.time()\n",
    "print('Time taken for answering by XLNET: ', xlnet_end - xlnet_start)\n",
    "\n",
    "# Create a DataFrame with the time for each method.\n",
    "latency_df = pd.DataFrame()\n",
    "latency_df['Model'] = ['Bert', 'DistilBert', 'XLNET']\n",
    "latency_df['Time per question (ms)'] = [int((bert_end-bert_start) * 100), int((dbert_end-dbert_start) * 100), int((xlnet_end-xlnet_start) * 100)]\n",
    "latency_df"
   ]
  },
  {
   "cell_type": "code",
   "execution_count": 24,
   "id": "234c8119",
   "metadata": {},
   "outputs": [
    {
     "data": {
      "image/png": "[encoded data removed]",
      "text/plain": [
       "<Figure size 432x288 with 1 Axes>"
      ]
     },
     "metadata": {
      "needs_background": "light"
     },
     "output_type": "display_data"
    }
   ],
   "source": [
    "ax = sns.barplot(x = 'Model', y = 'Time per question (ms)', data = latency_df)\n",
    "ax.bar_label(ax.containers[0])\n",
    "plt.title('Time taken per question (latency)')\n",
    "plt.savefig('latency.png')\n",
    "plt.show()"
   ]
  },
  {
   "cell_type": "markdown",
   "id": "5d5f939c",
   "metadata": {},
   "source": [
    "From the graph above, we can see that clearly DistilBert is the fastest among the models to provide answer for a question with a context. This also conforms with the concept of knowledge distillation and makes DistilBERT model an ideal model for high latency requirements, such as search engines or chat-bots / personal assistants."
   ]
  },
  {
   "cell_type": "markdown",
   "id": "2790d6e5-173a-48ca-a91f-324b235b8369",
   "metadata": {},
   "source": [
    "### Comparison for test question, context and answer"
   ]
  },
  {
   "cell_type": "code",
   "execution_count": 6,
   "id": "a32547f8",
   "metadata": {},
   "outputs": [
    {
     "name": "stdout",
     "output_type": "stream",
     "text": [
      "Answer from bert: Steve Wozniak\n",
      "Answer from distilbert: Steve Wozniak\n",
      "Answer from xlnet: Steve Wozniak\n"
     ]
    }
   ],
   "source": [
    "context = \"Steve Jobs was an American entrepreneur, industrial designer, business magnate and investor. \\\n",
    "           He was widely recognized as a pioneer of the personal computer revolution of the 1970s and 1980s,\\\n",
    "           along with his early business partner and fellow Apple co-founder Steve Wozniak.\\\n",
    "           He was born on 24th February 1955 in San Francisco. He and Wozniak co-founded Apple \\\n",
    "           in 1976 to sell Wozniak's Apple I personal computer. The Macintosh introduced the desktop \\\n",
    "           publishing industry in 1985 with the addition of the Apple LaserWriter, the first laser printer\\\n",
    "           to feature vector graphics.\"\n",
    "question = \"who co-founded Apple?\"\n",
    "\n",
    "print('Answer from bert:', bert_answer['answer'])\n",
    "print('Answer from distilbert:', dbert_answer['answer'])\n",
    "print('Answer from xlnet:', xlnet_answer['answer'])"
   ]
  },
  {
   "cell_type": "markdown",
   "id": "2f100ad4-8949-4c54-b302-f7303205de87",
   "metadata": {},
   "source": [
    "We can clearly see that the models are producing similar answers to the same question."
   ]
  },
  {
   "cell_type": "code",
   "execution_count": null,
   "id": "cdb0b578-6d5a-4776-b754-bf1eee1e270d",
   "metadata": {},
   "outputs": [],
   "source": []
  }
 ],
 "metadata": {
  "kernelspec": {
   "display_name": "Python 3",
   "language": "python",
   "name": "python3"
  },
  "language_info": {
   "codemirror_mode": {
    "name": "ipython",
    "version": 3
   },
   "file_extension": ".py",
   "mimetype": "text/x-python",
   "name": "python",
   "nbconvert_exporter": "python",
   "pygments_lexer": "ipython3",
   "version": "3.7.4"
  }
 },
 "nbformat": 4,
 "nbformat_minor": 5
}
